{
 "cells": [
  {
   "cell_type": "code",
   "execution_count": 21,
   "metadata": {},
   "outputs": [],
   "source": [
    "import selenium\n",
    "import pandas as pd\n",
    "from selenium import webdriver"
   ]
  },
  {
   "cell_type": "code",
   "execution_count": 22,
   "metadata": {},
   "outputs": [],
   "source": [
    "driver =webdriver.Chrome(\"chromedriver.exe\")"
   ]
  },
  {
   "cell_type": "code",
   "execution_count": 23,
   "metadata": {},
   "outputs": [],
   "source": [
    "url ='https://www.naukri.com/'\n",
    "driver.get(url)"
   ]
  },
  {
   "cell_type": "code",
   "execution_count": 24,
   "metadata": {},
   "outputs": [
    {
     "data": {
      "text/plain": [
       "<selenium.webdriver.remote.webelement.WebElement (session=\"0d665a87c6c4ec1cb277247297abab40\", element=\"deab06e6-14d3-409d-9a57-e7b35c87296a\")>"
      ]
     },
     "execution_count": 24,
     "metadata": {},
     "output_type": "execute_result"
    }
   ],
   "source": [
    "search_job = driver.find_element_by_id('qsb-keyword-sugg')\n",
    "search_job"
   ]
  },
  {
   "cell_type": "code",
   "execution_count": 25,
   "metadata": {},
   "outputs": [],
   "source": [
    "search_job.send_keys(\"Data Scientist\")"
   ]
  },
  {
   "cell_type": "code",
   "execution_count": 26,
   "metadata": {},
   "outputs": [],
   "source": [
    "search_loc =driver.find_element_by_id(\"qsb-location-sugg\")\n",
    "search_loc.send_keys(\"Bangalore\")"
   ]
  },
  {
   "cell_type": "code",
   "execution_count": 27,
   "metadata": {},
   "outputs": [
    {
     "ename": "NoSuchElementException",
     "evalue": "Message: no such element: Unable to locate element: {\"method\":\"xpath\",\"selector\":\"//button[@class='btn']\"}\n  (Session info: chrome=90.0.4430.212)\n",
     "output_type": "error",
     "traceback": [
      "\u001b[1;31m---------------------------------------------------------------------------\u001b[0m",
      "\u001b[1;31mNoSuchElementException\u001b[0m                    Traceback (most recent call last)",
      "\u001b[1;32m<ipython-input-27-8a77b08dab23>\u001b[0m in \u001b[0;36m<module>\u001b[1;34m\u001b[0m\n\u001b[1;32m----> 1\u001b[1;33m \u001b[0msearch_btn\u001b[0m \u001b[1;33m=\u001b[0m\u001b[0mdriver\u001b[0m\u001b[1;33m.\u001b[0m\u001b[0mfind_element_by_xpath\u001b[0m\u001b[1;33m(\u001b[0m\u001b[1;34m\"//button[@class='btn']\"\u001b[0m\u001b[1;33m)\u001b[0m\u001b[1;33m\u001b[0m\u001b[1;33m\u001b[0m\u001b[0m\n\u001b[0m\u001b[0;32m      2\u001b[0m \u001b[0msearch_btn\u001b[0m\u001b[1;33m.\u001b[0m\u001b[0mclick\u001b[0m\u001b[1;33m(\u001b[0m\u001b[1;33m)\u001b[0m\u001b[1;33m\u001b[0m\u001b[1;33m\u001b[0m\u001b[0m\n",
      "\u001b[1;32m~\\anaconda3\\lib\\site-packages\\selenium\\webdriver\\remote\\webdriver.py\u001b[0m in \u001b[0;36mfind_element_by_xpath\u001b[1;34m(self, xpath)\u001b[0m\n\u001b[0;32m    392\u001b[0m             \u001b[0melement\u001b[0m \u001b[1;33m=\u001b[0m \u001b[0mdriver\u001b[0m\u001b[1;33m.\u001b[0m\u001b[0mfind_element_by_xpath\u001b[0m\u001b[1;33m(\u001b[0m\u001b[1;34m'//div/td[1]'\u001b[0m\u001b[1;33m)\u001b[0m\u001b[1;33m\u001b[0m\u001b[1;33m\u001b[0m\u001b[0m\n\u001b[0;32m    393\u001b[0m         \"\"\"\n\u001b[1;32m--> 394\u001b[1;33m         \u001b[1;32mreturn\u001b[0m \u001b[0mself\u001b[0m\u001b[1;33m.\u001b[0m\u001b[0mfind_element\u001b[0m\u001b[1;33m(\u001b[0m\u001b[0mby\u001b[0m\u001b[1;33m=\u001b[0m\u001b[0mBy\u001b[0m\u001b[1;33m.\u001b[0m\u001b[0mXPATH\u001b[0m\u001b[1;33m,\u001b[0m \u001b[0mvalue\u001b[0m\u001b[1;33m=\u001b[0m\u001b[0mxpath\u001b[0m\u001b[1;33m)\u001b[0m\u001b[1;33m\u001b[0m\u001b[1;33m\u001b[0m\u001b[0m\n\u001b[0m\u001b[0;32m    395\u001b[0m \u001b[1;33m\u001b[0m\u001b[0m\n\u001b[0;32m    396\u001b[0m     \u001b[1;32mdef\u001b[0m \u001b[0mfind_elements_by_xpath\u001b[0m\u001b[1;33m(\u001b[0m\u001b[0mself\u001b[0m\u001b[1;33m,\u001b[0m \u001b[0mxpath\u001b[0m\u001b[1;33m)\u001b[0m\u001b[1;33m:\u001b[0m\u001b[1;33m\u001b[0m\u001b[1;33m\u001b[0m\u001b[0m\n",
      "\u001b[1;32m~\\anaconda3\\lib\\site-packages\\selenium\\webdriver\\remote\\webdriver.py\u001b[0m in \u001b[0;36mfind_element\u001b[1;34m(self, by, value)\u001b[0m\n\u001b[0;32m    974\u001b[0m                 \u001b[0mby\u001b[0m \u001b[1;33m=\u001b[0m \u001b[0mBy\u001b[0m\u001b[1;33m.\u001b[0m\u001b[0mCSS_SELECTOR\u001b[0m\u001b[1;33m\u001b[0m\u001b[1;33m\u001b[0m\u001b[0m\n\u001b[0;32m    975\u001b[0m                 \u001b[0mvalue\u001b[0m \u001b[1;33m=\u001b[0m \u001b[1;34m'[name=\"%s\"]'\u001b[0m \u001b[1;33m%\u001b[0m \u001b[0mvalue\u001b[0m\u001b[1;33m\u001b[0m\u001b[1;33m\u001b[0m\u001b[0m\n\u001b[1;32m--> 976\u001b[1;33m         return self.execute(Command.FIND_ELEMENT, {\n\u001b[0m\u001b[0;32m    977\u001b[0m             \u001b[1;34m'using'\u001b[0m\u001b[1;33m:\u001b[0m \u001b[0mby\u001b[0m\u001b[1;33m,\u001b[0m\u001b[1;33m\u001b[0m\u001b[1;33m\u001b[0m\u001b[0m\n\u001b[0;32m    978\u001b[0m             'value': value})['value']\n",
      "\u001b[1;32m~\\anaconda3\\lib\\site-packages\\selenium\\webdriver\\remote\\webdriver.py\u001b[0m in \u001b[0;36mexecute\u001b[1;34m(self, driver_command, params)\u001b[0m\n\u001b[0;32m    319\u001b[0m         \u001b[0mresponse\u001b[0m \u001b[1;33m=\u001b[0m \u001b[0mself\u001b[0m\u001b[1;33m.\u001b[0m\u001b[0mcommand_executor\u001b[0m\u001b[1;33m.\u001b[0m\u001b[0mexecute\u001b[0m\u001b[1;33m(\u001b[0m\u001b[0mdriver_command\u001b[0m\u001b[1;33m,\u001b[0m \u001b[0mparams\u001b[0m\u001b[1;33m)\u001b[0m\u001b[1;33m\u001b[0m\u001b[1;33m\u001b[0m\u001b[0m\n\u001b[0;32m    320\u001b[0m         \u001b[1;32mif\u001b[0m \u001b[0mresponse\u001b[0m\u001b[1;33m:\u001b[0m\u001b[1;33m\u001b[0m\u001b[1;33m\u001b[0m\u001b[0m\n\u001b[1;32m--> 321\u001b[1;33m             \u001b[0mself\u001b[0m\u001b[1;33m.\u001b[0m\u001b[0merror_handler\u001b[0m\u001b[1;33m.\u001b[0m\u001b[0mcheck_response\u001b[0m\u001b[1;33m(\u001b[0m\u001b[0mresponse\u001b[0m\u001b[1;33m)\u001b[0m\u001b[1;33m\u001b[0m\u001b[1;33m\u001b[0m\u001b[0m\n\u001b[0m\u001b[0;32m    322\u001b[0m             response['value'] = self._unwrap_value(\n\u001b[0;32m    323\u001b[0m                 response.get('value', None))\n",
      "\u001b[1;32m~\\anaconda3\\lib\\site-packages\\selenium\\webdriver\\remote\\errorhandler.py\u001b[0m in \u001b[0;36mcheck_response\u001b[1;34m(self, response)\u001b[0m\n\u001b[0;32m    240\u001b[0m                 \u001b[0malert_text\u001b[0m \u001b[1;33m=\u001b[0m \u001b[0mvalue\u001b[0m\u001b[1;33m[\u001b[0m\u001b[1;34m'alert'\u001b[0m\u001b[1;33m]\u001b[0m\u001b[1;33m.\u001b[0m\u001b[0mget\u001b[0m\u001b[1;33m(\u001b[0m\u001b[1;34m'text'\u001b[0m\u001b[1;33m)\u001b[0m\u001b[1;33m\u001b[0m\u001b[1;33m\u001b[0m\u001b[0m\n\u001b[0;32m    241\u001b[0m             \u001b[1;32mraise\u001b[0m \u001b[0mexception_class\u001b[0m\u001b[1;33m(\u001b[0m\u001b[0mmessage\u001b[0m\u001b[1;33m,\u001b[0m \u001b[0mscreen\u001b[0m\u001b[1;33m,\u001b[0m \u001b[0mstacktrace\u001b[0m\u001b[1;33m,\u001b[0m \u001b[0malert_text\u001b[0m\u001b[1;33m)\u001b[0m\u001b[1;33m\u001b[0m\u001b[1;33m\u001b[0m\u001b[0m\n\u001b[1;32m--> 242\u001b[1;33m         \u001b[1;32mraise\u001b[0m \u001b[0mexception_class\u001b[0m\u001b[1;33m(\u001b[0m\u001b[0mmessage\u001b[0m\u001b[1;33m,\u001b[0m \u001b[0mscreen\u001b[0m\u001b[1;33m,\u001b[0m \u001b[0mstacktrace\u001b[0m\u001b[1;33m)\u001b[0m\u001b[1;33m\u001b[0m\u001b[1;33m\u001b[0m\u001b[0m\n\u001b[0m\u001b[0;32m    243\u001b[0m \u001b[1;33m\u001b[0m\u001b[0m\n\u001b[0;32m    244\u001b[0m     \u001b[1;32mdef\u001b[0m \u001b[0m_value_or_default\u001b[0m\u001b[1;33m(\u001b[0m\u001b[0mself\u001b[0m\u001b[1;33m,\u001b[0m \u001b[0mobj\u001b[0m\u001b[1;33m,\u001b[0m \u001b[0mkey\u001b[0m\u001b[1;33m,\u001b[0m \u001b[0mdefault\u001b[0m\u001b[1;33m)\u001b[0m\u001b[1;33m:\u001b[0m\u001b[1;33m\u001b[0m\u001b[1;33m\u001b[0m\u001b[0m\n",
      "\u001b[1;31mNoSuchElementException\u001b[0m: Message: no such element: Unable to locate element: {\"method\":\"xpath\",\"selector\":\"//button[@class='btn']\"}\n  (Session info: chrome=90.0.4430.212)\n"
     ]
    }
   ],
   "source": [
    "search_btn =driver.find_element_by_xpath(\"//button[@class='btn']\")\n",
    "search_btn.click()"
   ]
  },
  {
   "cell_type": "code",
   "execution_count": 9,
   "metadata": {},
   "outputs": [
    {
     "data": {
      "text/plain": [
       "[<selenium.webdriver.remote.webelement.WebElement (session=\"40f876e94988da0ea8890c30a17900dd\", element=\"b10439e4-2b2a-4746-b3d7-261444d1e1cc\")>,\n",
       " <selenium.webdriver.remote.webelement.WebElement (session=\"40f876e94988da0ea8890c30a17900dd\", element=\"aec9dc46-9d5e-42e5-837e-eb710cf8ecbc\")>,\n",
       " <selenium.webdriver.remote.webelement.WebElement (session=\"40f876e94988da0ea8890c30a17900dd\", element=\"c2dd53e3-57e0-4587-b4a1-bdfa6865ee3d\")>,\n",
       " <selenium.webdriver.remote.webelement.WebElement (session=\"40f876e94988da0ea8890c30a17900dd\", element=\"20c315fd-e58c-4dae-beb7-4b579f698600\")>,\n",
       " <selenium.webdriver.remote.webelement.WebElement (session=\"40f876e94988da0ea8890c30a17900dd\", element=\"443f0e85-a9b9-4c63-a041-d9b6a219735e\")>,\n",
       " <selenium.webdriver.remote.webelement.WebElement (session=\"40f876e94988da0ea8890c30a17900dd\", element=\"795fddb5-0d92-4266-92a7-154cb3f883c9\")>,\n",
       " <selenium.webdriver.remote.webelement.WebElement (session=\"40f876e94988da0ea8890c30a17900dd\", element=\"2574399f-921a-4c14-b781-101244a00670\")>,\n",
       " <selenium.webdriver.remote.webelement.WebElement (session=\"40f876e94988da0ea8890c30a17900dd\", element=\"35f6f0cf-68c5-4924-bc78-c9893112d52f\")>,\n",
       " <selenium.webdriver.remote.webelement.WebElement (session=\"40f876e94988da0ea8890c30a17900dd\", element=\"be91f6c3-8dbf-4564-87d9-7ae9e1931ba9\")>,\n",
       " <selenium.webdriver.remote.webelement.WebElement (session=\"40f876e94988da0ea8890c30a17900dd\", element=\"cd8426ce-2ec7-4e41-b3f0-293f4d797cdb\")>,\n",
       " <selenium.webdriver.remote.webelement.WebElement (session=\"40f876e94988da0ea8890c30a17900dd\", element=\"40a7f885-bdef-4fc2-b373-a71dab733579\")>,\n",
       " <selenium.webdriver.remote.webelement.WebElement (session=\"40f876e94988da0ea8890c30a17900dd\", element=\"31f3c960-322b-42ec-8283-a9694b06f5c9\")>,\n",
       " <selenium.webdriver.remote.webelement.WebElement (session=\"40f876e94988da0ea8890c30a17900dd\", element=\"a1464c7a-dd3c-42b9-be71-9e5e5b95e522\")>,\n",
       " <selenium.webdriver.remote.webelement.WebElement (session=\"40f876e94988da0ea8890c30a17900dd\", element=\"916a9ccc-5995-41c2-a671-068fd4cb2acd\")>,\n",
       " <selenium.webdriver.remote.webelement.WebElement (session=\"40f876e94988da0ea8890c30a17900dd\", element=\"174332a3-4c24-491c-81e7-f39d30e87266\")>,\n",
       " <selenium.webdriver.remote.webelement.WebElement (session=\"40f876e94988da0ea8890c30a17900dd\", element=\"8c0d9df9-a9d8-418a-ac1e-5880473f925d\")>,\n",
       " <selenium.webdriver.remote.webelement.WebElement (session=\"40f876e94988da0ea8890c30a17900dd\", element=\"4e27aca8-f925-451c-88fb-712a8fec3588\")>,\n",
       " <selenium.webdriver.remote.webelement.WebElement (session=\"40f876e94988da0ea8890c30a17900dd\", element=\"dc9c7b6e-0c72-4b87-8152-d4ca078cea89\")>,\n",
       " <selenium.webdriver.remote.webelement.WebElement (session=\"40f876e94988da0ea8890c30a17900dd\", element=\"dd1a5e6d-f84f-4c0a-9feb-79289ea401d2\")>,\n",
       " <selenium.webdriver.remote.webelement.WebElement (session=\"40f876e94988da0ea8890c30a17900dd\", element=\"96cd7f7a-94f9-40d3-be51-f44f8f7ccd2b\")>]"
      ]
     },
     "execution_count": 9,
     "metadata": {},
     "output_type": "execute_result"
    }
   ],
   "source": [
    "titles_tags= driver.find_elements_by_xpath(\"//a[@class='title fw500 ellipsis']\")\n",
    "titles_tags"
   ]
  },
  {
   "cell_type": "code",
   "execution_count": 10,
   "metadata": {},
   "outputs": [
    {
     "data": {
      "text/plain": [
       "['Data Scientist / Data Analyst -Business Analyst',\n",
       " 'Senior Data Scientist, Modeling',\n",
       " 'Big Data - Data Scientist',\n",
       " 'Specialist I - Data Scientist',\n",
       " 'Data Scientist',\n",
       " 'Lead Data Scientist',\n",
       " 'Data Scientist',\n",
       " 'SDE Lead Data Scientist-L3',\n",
       " 'Computational Design Lead Data Scientist-L3',\n",
       " 'Hiring For DATA Scientist - ON Contract Basis (3-6 Months)',\n",
       " 'Senior Data Scientist',\n",
       " 'Senior Data Scientist - Chatbot & NLP',\n",
       " 'Senior Data Scientist',\n",
       " 'Sr. Data Scientist',\n",
       " 'Senior Data Scientist',\n",
       " 'Senior Associate/Team Lead - Data Scientist Consulting',\n",
       " 'Senior Data Scientist',\n",
       " 'Data Scientist',\n",
       " 'Sr Data Scientist, Payments',\n",
       " 'Hiring For Lead data Scientist For Bangalore location']"
      ]
     },
     "execution_count": 10,
     "metadata": {},
     "output_type": "execute_result"
    }
   ],
   "source": [
    "job_titles=[]\n",
    "for i in titles_tags:\n",
    "    job_titles.append(i.text)\n",
    "job_titles"
   ]
  },
  {
   "cell_type": "code",
   "execution_count": 28,
   "metadata": {},
   "outputs": [
    {
     "data": {
      "text/plain": [
       "[<selenium.webdriver.remote.webelement.WebElement (session=\"0d665a87c6c4ec1cb277247297abab40\", element=\"1e132192-abd4-492d-b9f5-5b36560d0b14\")>,\n",
       " <selenium.webdriver.remote.webelement.WebElement (session=\"0d665a87c6c4ec1cb277247297abab40\", element=\"81b7e54d-916e-4e88-a796-10815fd0731b\")>,\n",
       " <selenium.webdriver.remote.webelement.WebElement (session=\"0d665a87c6c4ec1cb277247297abab40\", element=\"0e48c3d6-41a6-4fe4-80cd-ff2fb3c95bca\")>,\n",
       " <selenium.webdriver.remote.webelement.WebElement (session=\"0d665a87c6c4ec1cb277247297abab40\", element=\"2c59c5cf-d432-4500-a9b7-55fee321fe14\")>,\n",
       " <selenium.webdriver.remote.webelement.WebElement (session=\"0d665a87c6c4ec1cb277247297abab40\", element=\"98658621-902d-4944-83e1-2814544ceffd\")>,\n",
       " <selenium.webdriver.remote.webelement.WebElement (session=\"0d665a87c6c4ec1cb277247297abab40\", element=\"ac767745-cc1a-437d-af69-99c0800a3732\")>,\n",
       " <selenium.webdriver.remote.webelement.WebElement (session=\"0d665a87c6c4ec1cb277247297abab40\", element=\"fa32f7f0-b940-4444-843e-1d8268cb8d6b\")>,\n",
       " <selenium.webdriver.remote.webelement.WebElement (session=\"0d665a87c6c4ec1cb277247297abab40\", element=\"269f31a4-5637-4157-a21b-5c7e26626223\")>,\n",
       " <selenium.webdriver.remote.webelement.WebElement (session=\"0d665a87c6c4ec1cb277247297abab40\", element=\"04a2e657-c007-40d6-916e-0448906ab842\")>,\n",
       " <selenium.webdriver.remote.webelement.WebElement (session=\"0d665a87c6c4ec1cb277247297abab40\", element=\"5872a1b5-7a85-4dae-ae25-51442ea2cc75\")>,\n",
       " <selenium.webdriver.remote.webelement.WebElement (session=\"0d665a87c6c4ec1cb277247297abab40\", element=\"35e77bfa-934c-48c9-94a6-6c4980dc6cc7\")>,\n",
       " <selenium.webdriver.remote.webelement.WebElement (session=\"0d665a87c6c4ec1cb277247297abab40\", element=\"7c155ad8-c42f-4226-8f99-9919d04a7fa5\")>,\n",
       " <selenium.webdriver.remote.webelement.WebElement (session=\"0d665a87c6c4ec1cb277247297abab40\", element=\"2182afa5-bc59-4098-9174-d36b8c172aff\")>,\n",
       " <selenium.webdriver.remote.webelement.WebElement (session=\"0d665a87c6c4ec1cb277247297abab40\", element=\"47918576-ecd5-4a13-87b9-ae75843fa6e3\")>,\n",
       " <selenium.webdriver.remote.webelement.WebElement (session=\"0d665a87c6c4ec1cb277247297abab40\", element=\"39932c80-dac8-4930-a158-1db9a52a11ca\")>,\n",
       " <selenium.webdriver.remote.webelement.WebElement (session=\"0d665a87c6c4ec1cb277247297abab40\", element=\"87e2da93-9f19-47a1-a276-356d81f9f4f3\")>,\n",
       " <selenium.webdriver.remote.webelement.WebElement (session=\"0d665a87c6c4ec1cb277247297abab40\", element=\"f54765df-ed8e-4675-bef1-6ddd99f6f374\")>,\n",
       " <selenium.webdriver.remote.webelement.WebElement (session=\"0d665a87c6c4ec1cb277247297abab40\", element=\"72642ada-51f6-4e80-980a-c352bfa57090\")>,\n",
       " <selenium.webdriver.remote.webelement.WebElement (session=\"0d665a87c6c4ec1cb277247297abab40\", element=\"4cd7ca15-47e9-4ef2-a675-a64b838d8787\")>,\n",
       " <selenium.webdriver.remote.webelement.WebElement (session=\"0d665a87c6c4ec1cb277247297abab40\", element=\"5790d926-a6e6-441b-9124-56e3b496c5b7\")>]"
      ]
     },
     "execution_count": 28,
     "metadata": {},
     "output_type": "execute_result"
    }
   ],
   "source": [
    "companies_tags= driver.find_elements_by_xpath(\"//a[@class='subTitle ellipsis fleft']\")\n",
    "companies_tags"
   ]
  },
  {
   "cell_type": "code",
   "execution_count": 29,
   "metadata": {},
   "outputs": [
    {
     "data": {
      "text/plain": [
       "['Inflexion Analytix Private Limited',\n",
       " 'Nielsen',\n",
       " 'Xoriant Solutions Pvt Ltd',\n",
       " 'Philips India Limited',\n",
       " 'Intel Technology India Pvt Ltd',\n",
       " 'Oracle India Pvt. Ltd.',\n",
       " 'IBM India Pvt. Limited',\n",
       " 'Huawei Technologies India Pvt Ltd',\n",
       " 'Huawei Technologies India Pvt Ltd',\n",
       " 'GlobalEdx Learning and Technology Solution Pvt Ltd',\n",
       " 'GO-JEK India',\n",
       " 'Gojek Tech',\n",
       " 'nanobi data and analytics private limited',\n",
       " 'VALIANCE ANALYTICS PRIVATE LIMITED',\n",
       " 'BankBazaar.com (A&A DUKAAN FINANCIAL SERVICES PVT. LTD)',\n",
       " 'Analytics India Magazine',\n",
       " 'Gojek Tech',\n",
       " 'Applied Materials',\n",
       " 'AIRBNB GLOBAL CAPABILITY CENTER PRIVATE LIMITED',\n",
       " 'Societe Generale']"
      ]
     },
     "execution_count": 29,
     "metadata": {},
     "output_type": "execute_result"
    }
   ],
   "source": [
    "company_names=[]\n",
    "\n",
    "for i in companies_tags:\n",
    "    company_names.append(i.text)\n",
    "company_names"
   ]
  },
  {
   "cell_type": "code",
   "execution_count": 30,
   "metadata": {},
   "outputs": [
    {
     "data": {
      "text/plain": [
       "[<selenium.webdriver.remote.webelement.WebElement (session=\"0d665a87c6c4ec1cb277247297abab40\", element=\"1f5ea6ea-24b4-4e25-aef6-3247e93eb3c2\")>,\n",
       " <selenium.webdriver.remote.webelement.WebElement (session=\"0d665a87c6c4ec1cb277247297abab40\", element=\"4bad5984-6879-4469-a542-8c3865b7d4bd\")>,\n",
       " <selenium.webdriver.remote.webelement.WebElement (session=\"0d665a87c6c4ec1cb277247297abab40\", element=\"8ad12647-016c-4a6c-9b5b-6dffab4fb96b\")>,\n",
       " <selenium.webdriver.remote.webelement.WebElement (session=\"0d665a87c6c4ec1cb277247297abab40\", element=\"46307751-f097-4c61-b9fe-eaba8dcbc521\")>,\n",
       " <selenium.webdriver.remote.webelement.WebElement (session=\"0d665a87c6c4ec1cb277247297abab40\", element=\"22825c3b-3c71-41fe-a5fd-996c3413bdaa\")>,\n",
       " <selenium.webdriver.remote.webelement.WebElement (session=\"0d665a87c6c4ec1cb277247297abab40\", element=\"60edd4e6-b841-4533-9383-023c191ca437\")>,\n",
       " <selenium.webdriver.remote.webelement.WebElement (session=\"0d665a87c6c4ec1cb277247297abab40\", element=\"0249a088-ccf0-45df-be86-88f5fcc79e40\")>,\n",
       " <selenium.webdriver.remote.webelement.WebElement (session=\"0d665a87c6c4ec1cb277247297abab40\", element=\"e2d98186-aa24-43f6-ba60-c1a6f359a601\")>,\n",
       " <selenium.webdriver.remote.webelement.WebElement (session=\"0d665a87c6c4ec1cb277247297abab40\", element=\"74f85c99-1e1c-404b-9a5c-4313681278e2\")>,\n",
       " <selenium.webdriver.remote.webelement.WebElement (session=\"0d665a87c6c4ec1cb277247297abab40\", element=\"de2b717a-30d0-4c51-959a-aeb3124c28a8\")>,\n",
       " <selenium.webdriver.remote.webelement.WebElement (session=\"0d665a87c6c4ec1cb277247297abab40\", element=\"ea79c5b9-9c5d-4c02-8f0c-d19cf93ced84\")>,\n",
       " <selenium.webdriver.remote.webelement.WebElement (session=\"0d665a87c6c4ec1cb277247297abab40\", element=\"422e9479-5b4c-4a5d-b02c-367015ad5696\")>,\n",
       " <selenium.webdriver.remote.webelement.WebElement (session=\"0d665a87c6c4ec1cb277247297abab40\", element=\"96af2742-341c-4d54-8e63-538c6326f266\")>,\n",
       " <selenium.webdriver.remote.webelement.WebElement (session=\"0d665a87c6c4ec1cb277247297abab40\", element=\"bcc4e909-7472-4c89-8a67-fa31f76f1ca7\")>,\n",
       " <selenium.webdriver.remote.webelement.WebElement (session=\"0d665a87c6c4ec1cb277247297abab40\", element=\"323c81d9-f663-4613-b3a2-bfc119b5735c\")>,\n",
       " <selenium.webdriver.remote.webelement.WebElement (session=\"0d665a87c6c4ec1cb277247297abab40\", element=\"b854ffca-7695-4daf-b93b-49ad2e398624\")>,\n",
       " <selenium.webdriver.remote.webelement.WebElement (session=\"0d665a87c6c4ec1cb277247297abab40\", element=\"b493e135-ea0a-4f17-bb20-b6bb84c8a1e2\")>,\n",
       " <selenium.webdriver.remote.webelement.WebElement (session=\"0d665a87c6c4ec1cb277247297abab40\", element=\"31fd8903-7181-436b-a121-a4098599cef6\")>,\n",
       " <selenium.webdriver.remote.webelement.WebElement (session=\"0d665a87c6c4ec1cb277247297abab40\", element=\"d226dda8-2917-4aff-bbaa-ed23eda931d2\")>,\n",
       " <selenium.webdriver.remote.webelement.WebElement (session=\"0d665a87c6c4ec1cb277247297abab40\", element=\"f759bad9-a5be-40b5-8705-7e3a86c85600\")>]"
      ]
     },
     "execution_count": 30,
     "metadata": {},
     "output_type": "execute_result"
    }
   ],
   "source": [
    "experience_tags= driver.find_elements_by_xpath(\"//li[@class='fleft grey-text br2 placeHolderLi experience']//span\")\n",
    "experience_tags"
   ]
  },
  {
   "cell_type": "code",
   "execution_count": 31,
   "metadata": {},
   "outputs": [
    {
     "data": {
      "text/plain": [
       "['0-3 Yrs',\n",
       " '3-7 Yrs',\n",
       " '1-3 Yrs',\n",
       " '4-7 Yrs',\n",
       " '6-10 Yrs',\n",
       " '6-10 Yrs',\n",
       " '6-8 Yrs',\n",
       " '5-8 Yrs',\n",
       " '5-8 Yrs',\n",
       " '3-8 Yrs',\n",
       " '4-11 Yrs',\n",
       " '3-7 Yrs',\n",
       " '7-9 Yrs',\n",
       " '6-8 Yrs',\n",
       " '5-7 Yrs',\n",
       " '3-5 Yrs',\n",
       " '3-7 Yrs',\n",
       " '2-4 Yrs',\n",
       " '4-9 Yrs',\n",
       " '5-9 Yrs']"
      ]
     },
     "execution_count": 31,
     "metadata": {},
     "output_type": "execute_result"
    }
   ],
   "source": [
    "experience_list=[]\n",
    "for i in experience_tags:\n",
    "    experience_list.append(i.text)\n",
    "experience_list"
   ]
  },
  {
   "cell_type": "code",
   "execution_count": 32,
   "metadata": {},
   "outputs": [
    {
     "data": {
      "text/plain": [
       "[<selenium.webdriver.remote.webelement.WebElement (session=\"0d665a87c6c4ec1cb277247297abab40\", element=\"d6ad3fe5-079c-4970-950a-dba4285cfffd\")>,\n",
       " <selenium.webdriver.remote.webelement.WebElement (session=\"0d665a87c6c4ec1cb277247297abab40\", element=\"59f5a753-2d9e-4ad1-8dcd-15edd83bc34c\")>,\n",
       " <selenium.webdriver.remote.webelement.WebElement (session=\"0d665a87c6c4ec1cb277247297abab40\", element=\"49857197-2f6b-40db-94be-a6e2ed777758\")>,\n",
       " <selenium.webdriver.remote.webelement.WebElement (session=\"0d665a87c6c4ec1cb277247297abab40\", element=\"ebe81f65-e384-4b2d-aeff-0c5d09100f85\")>,\n",
       " <selenium.webdriver.remote.webelement.WebElement (session=\"0d665a87c6c4ec1cb277247297abab40\", element=\"cb7a92f0-2713-4b67-b9d9-8f53a60b5264\")>,\n",
       " <selenium.webdriver.remote.webelement.WebElement (session=\"0d665a87c6c4ec1cb277247297abab40\", element=\"6e1e4986-5307-49f5-a3dc-a3b2d75ef8c9\")>,\n",
       " <selenium.webdriver.remote.webelement.WebElement (session=\"0d665a87c6c4ec1cb277247297abab40\", element=\"40e35ffb-8991-4d1c-aabc-61adc860fbf3\")>,\n",
       " <selenium.webdriver.remote.webelement.WebElement (session=\"0d665a87c6c4ec1cb277247297abab40\", element=\"53c5659d-c06a-453b-a0c4-c480a2786354\")>,\n",
       " <selenium.webdriver.remote.webelement.WebElement (session=\"0d665a87c6c4ec1cb277247297abab40\", element=\"15952802-8571-464d-a593-8d9bebf2a2b5\")>,\n",
       " <selenium.webdriver.remote.webelement.WebElement (session=\"0d665a87c6c4ec1cb277247297abab40\", element=\"d11469b7-f000-4328-9cd4-2bef0820797a\")>,\n",
       " <selenium.webdriver.remote.webelement.WebElement (session=\"0d665a87c6c4ec1cb277247297abab40\", element=\"2e3de2bd-5d82-4495-bf66-b7a96a18e375\")>,\n",
       " <selenium.webdriver.remote.webelement.WebElement (session=\"0d665a87c6c4ec1cb277247297abab40\", element=\"1f409f58-2620-41d4-b3f5-540be89c53c2\")>,\n",
       " <selenium.webdriver.remote.webelement.WebElement (session=\"0d665a87c6c4ec1cb277247297abab40\", element=\"136d5f7b-57f2-4f7c-b2a2-d27169abeaf7\")>,\n",
       " <selenium.webdriver.remote.webelement.WebElement (session=\"0d665a87c6c4ec1cb277247297abab40\", element=\"f897a81a-543d-486d-b5ff-b7f0dc650436\")>,\n",
       " <selenium.webdriver.remote.webelement.WebElement (session=\"0d665a87c6c4ec1cb277247297abab40\", element=\"2ba22333-3bf6-4492-88b2-0fa1c543d2a9\")>,\n",
       " <selenium.webdriver.remote.webelement.WebElement (session=\"0d665a87c6c4ec1cb277247297abab40\", element=\"55bea759-f7c3-43be-b0bc-c4bdc1456779\")>,\n",
       " <selenium.webdriver.remote.webelement.WebElement (session=\"0d665a87c6c4ec1cb277247297abab40\", element=\"560b5212-fefd-40fe-9524-b6cd7c8d4152\")>,\n",
       " <selenium.webdriver.remote.webelement.WebElement (session=\"0d665a87c6c4ec1cb277247297abab40\", element=\"77b30558-7ce6-4566-bd6c-a3bd8222648d\")>,\n",
       " <selenium.webdriver.remote.webelement.WebElement (session=\"0d665a87c6c4ec1cb277247297abab40\", element=\"7c08a211-e533-4e16-91f5-99105959d141\")>,\n",
       " <selenium.webdriver.remote.webelement.WebElement (session=\"0d665a87c6c4ec1cb277247297abab40\", element=\"7fda3f14-7d66-47b4-bd4a-7dd429d70600\")>]"
      ]
     },
     "execution_count": 32,
     "metadata": {},
     "output_type": "execute_result"
    }
   ],
   "source": [
    "location_tags= driver.find_elements_by_xpath(\"//li[@class='fleft grey-text br2 placeHolderLi location']//span\")\n",
    "location_tags"
   ]
  },
  {
   "cell_type": "code",
   "execution_count": 34,
   "metadata": {},
   "outputs": [
    {
     "data": {
      "text/plain": [
       "['Mumbai, Hyderabad/Secunderabad, Pune, Gurgaon/Gurugram, Chennai, Bangalore/Bengaluru',\n",
       " 'Kolkata, Gurgaon/Gurugram, Bangalore/Bengaluru, Vadodara, Mumbai (All Areas)',\n",
       " 'Kochi/Cochin, Indore, Hyderabad/Secunderabad, Pune, Ahmedabad, Bangalore/Bengaluru, Mumbai (All Areas)',\n",
       " 'Bangalore/Bengaluru',\n",
       " 'Bangalore/Bengaluru',\n",
       " 'Bangalore/Bengaluru',\n",
       " 'Bangalore/Bengaluru',\n",
       " 'Bangalore/Bengaluru',\n",
       " 'Bangalore/Bengaluru',\n",
       " 'Hyderabad/Secunderabad, Bangalore/Bengaluru, Mumbai (All Areas)',\n",
       " 'Bangalore/Bengaluru',\n",
       " 'Bangalore/Bengaluru',\n",
       " 'Bangalore/Bengaluru',\n",
       " 'Bangalore/Bengaluru, Delhi / NCR',\n",
       " 'Bangalore/Bengaluru',\n",
       " 'Bangalore/Bengaluru',\n",
       " 'Bangalore/Bengaluru',\n",
       " 'Bangalore/Bengaluru',\n",
       " 'Bangalore/Bengaluru',\n",
       " 'Bangalore/Bengaluru']"
      ]
     },
     "execution_count": 34,
     "metadata": {},
     "output_type": "execute_result"
    }
   ],
   "source": [
    "location_list=[]\n",
    "for i in location_tags:\n",
    "    location_list.append(i.text)\n",
    "location_list"
   ]
  },
  {
   "cell_type": "markdown",
   "metadata": {},
   "source": [
    "# DATAFRAME"
   ]
  },
  {
   "cell_type": "code",
   "execution_count": 35,
   "metadata": {},
   "outputs": [
    {
     "name": "stdout",
     "output_type": "stream",
     "text": [
      "20 20 20 20\n"
     ]
    }
   ],
   "source": [
    "print(len(job_titles),len(company_names),len(experience_list),len(location_list))"
   ]
  },
  {
   "cell_type": "code",
   "execution_count": 36,
   "metadata": {},
   "outputs": [],
   "source": [
    "import pandas as pd\n",
    "jobs= pd.DataFrame({})\n",
    "jobs['title']=job_titles\n",
    "jobs['company']=company_names\n",
    "jobs['experience_required']=experience_list\n",
    "jobs['location']=location_list"
   ]
  },
  {
   "cell_type": "code",
   "execution_count": 37,
   "metadata": {},
   "outputs": [
    {
     "data": {
      "text/html": [
       "<div>\n",
       "<style scoped>\n",
       "    .dataframe tbody tr th:only-of-type {\n",
       "        vertical-align: middle;\n",
       "    }\n",
       "\n",
       "    .dataframe tbody tr th {\n",
       "        vertical-align: top;\n",
       "    }\n",
       "\n",
       "    .dataframe thead th {\n",
       "        text-align: right;\n",
       "    }\n",
       "</style>\n",
       "<table border=\"1\" class=\"dataframe\">\n",
       "  <thead>\n",
       "    <tr style=\"text-align: right;\">\n",
       "      <th></th>\n",
       "      <th>title</th>\n",
       "      <th>company</th>\n",
       "      <th>experience_required</th>\n",
       "      <th>location</th>\n",
       "    </tr>\n",
       "  </thead>\n",
       "  <tbody>\n",
       "    <tr>\n",
       "      <th>0</th>\n",
       "      <td>Data Scientist / Data Analyst -Business Analyst</td>\n",
       "      <td>Inflexion Analytix Private Limited</td>\n",
       "      <td>0-3 Yrs</td>\n",
       "      <td>Mumbai, Hyderabad/Secunderabad, Pune, Gurgaon/...</td>\n",
       "    </tr>\n",
       "    <tr>\n",
       "      <th>1</th>\n",
       "      <td>Senior Data Scientist, Modeling</td>\n",
       "      <td>Nielsen</td>\n",
       "      <td>3-7 Yrs</td>\n",
       "      <td>Kolkata, Gurgaon/Gurugram, Bangalore/Bengaluru...</td>\n",
       "    </tr>\n",
       "    <tr>\n",
       "      <th>2</th>\n",
       "      <td>Big Data - Data Scientist</td>\n",
       "      <td>Xoriant Solutions Pvt Ltd</td>\n",
       "      <td>1-3 Yrs</td>\n",
       "      <td>Kochi/Cochin, Indore, Hyderabad/Secunderabad, ...</td>\n",
       "    </tr>\n",
       "    <tr>\n",
       "      <th>3</th>\n",
       "      <td>Specialist I - Data Scientist</td>\n",
       "      <td>Philips India Limited</td>\n",
       "      <td>4-7 Yrs</td>\n",
       "      <td>Bangalore/Bengaluru</td>\n",
       "    </tr>\n",
       "    <tr>\n",
       "      <th>4</th>\n",
       "      <td>Data Scientist</td>\n",
       "      <td>Intel Technology India Pvt Ltd</td>\n",
       "      <td>6-10 Yrs</td>\n",
       "      <td>Bangalore/Bengaluru</td>\n",
       "    </tr>\n",
       "    <tr>\n",
       "      <th>5</th>\n",
       "      <td>Lead Data Scientist</td>\n",
       "      <td>Oracle India Pvt. Ltd.</td>\n",
       "      <td>6-10 Yrs</td>\n",
       "      <td>Bangalore/Bengaluru</td>\n",
       "    </tr>\n",
       "    <tr>\n",
       "      <th>6</th>\n",
       "      <td>Data Scientist</td>\n",
       "      <td>IBM India Pvt. Limited</td>\n",
       "      <td>6-8 Yrs</td>\n",
       "      <td>Bangalore/Bengaluru</td>\n",
       "    </tr>\n",
       "    <tr>\n",
       "      <th>7</th>\n",
       "      <td>SDE Lead Data Scientist-L3</td>\n",
       "      <td>Huawei Technologies India Pvt Ltd</td>\n",
       "      <td>5-8 Yrs</td>\n",
       "      <td>Bangalore/Bengaluru</td>\n",
       "    </tr>\n",
       "    <tr>\n",
       "      <th>8</th>\n",
       "      <td>Computational Design Lead Data Scientist-L3</td>\n",
       "      <td>Huawei Technologies India Pvt Ltd</td>\n",
       "      <td>5-8 Yrs</td>\n",
       "      <td>Bangalore/Bengaluru</td>\n",
       "    </tr>\n",
       "    <tr>\n",
       "      <th>9</th>\n",
       "      <td>Hiring For DATA Scientist - ON Contract Basis ...</td>\n",
       "      <td>GlobalEdx Learning and Technology Solution Pvt...</td>\n",
       "      <td>3-8 Yrs</td>\n",
       "      <td>Hyderabad/Secunderabad, Bangalore/Bengaluru, M...</td>\n",
       "    </tr>\n",
       "    <tr>\n",
       "      <th>10</th>\n",
       "      <td>Senior Data Scientist</td>\n",
       "      <td>GO-JEK India</td>\n",
       "      <td>4-11 Yrs</td>\n",
       "      <td>Bangalore/Bengaluru</td>\n",
       "    </tr>\n",
       "    <tr>\n",
       "      <th>11</th>\n",
       "      <td>Senior Data Scientist - Chatbot &amp; NLP</td>\n",
       "      <td>Gojek Tech</td>\n",
       "      <td>3-7 Yrs</td>\n",
       "      <td>Bangalore/Bengaluru</td>\n",
       "    </tr>\n",
       "    <tr>\n",
       "      <th>12</th>\n",
       "      <td>Senior Data Scientist</td>\n",
       "      <td>nanobi data and analytics private limited</td>\n",
       "      <td>7-9 Yrs</td>\n",
       "      <td>Bangalore/Bengaluru</td>\n",
       "    </tr>\n",
       "    <tr>\n",
       "      <th>13</th>\n",
       "      <td>Sr. Data Scientist</td>\n",
       "      <td>VALIANCE ANALYTICS PRIVATE LIMITED</td>\n",
       "      <td>6-8 Yrs</td>\n",
       "      <td>Bangalore/Bengaluru, Delhi / NCR</td>\n",
       "    </tr>\n",
       "    <tr>\n",
       "      <th>14</th>\n",
       "      <td>Senior Data Scientist</td>\n",
       "      <td>BankBazaar.com (A&amp;A DUKAAN FINANCIAL SERVICES ...</td>\n",
       "      <td>5-7 Yrs</td>\n",
       "      <td>Bangalore/Bengaluru</td>\n",
       "    </tr>\n",
       "    <tr>\n",
       "      <th>15</th>\n",
       "      <td>Senior Associate/Team Lead - Data Scientist Co...</td>\n",
       "      <td>Analytics India Magazine</td>\n",
       "      <td>3-5 Yrs</td>\n",
       "      <td>Bangalore/Bengaluru</td>\n",
       "    </tr>\n",
       "    <tr>\n",
       "      <th>16</th>\n",
       "      <td>Senior Data Scientist</td>\n",
       "      <td>Gojek Tech</td>\n",
       "      <td>3-7 Yrs</td>\n",
       "      <td>Bangalore/Bengaluru</td>\n",
       "    </tr>\n",
       "    <tr>\n",
       "      <th>17</th>\n",
       "      <td>Data Scientist</td>\n",
       "      <td>Applied Materials</td>\n",
       "      <td>2-4 Yrs</td>\n",
       "      <td>Bangalore/Bengaluru</td>\n",
       "    </tr>\n",
       "    <tr>\n",
       "      <th>18</th>\n",
       "      <td>Sr Data Scientist, Payments</td>\n",
       "      <td>AIRBNB GLOBAL CAPABILITY CENTER PRIVATE LIMITED</td>\n",
       "      <td>4-9 Yrs</td>\n",
       "      <td>Bangalore/Bengaluru</td>\n",
       "    </tr>\n",
       "    <tr>\n",
       "      <th>19</th>\n",
       "      <td>Hiring For Lead data Scientist For Bangalore l...</td>\n",
       "      <td>Societe Generale</td>\n",
       "      <td>5-9 Yrs</td>\n",
       "      <td>Bangalore/Bengaluru</td>\n",
       "    </tr>\n",
       "  </tbody>\n",
       "</table>\n",
       "</div>"
      ],
      "text/plain": [
       "                                                title  \\\n",
       "0     Data Scientist / Data Analyst -Business Analyst   \n",
       "1                     Senior Data Scientist, Modeling   \n",
       "2                           Big Data - Data Scientist   \n",
       "3                       Specialist I - Data Scientist   \n",
       "4                                      Data Scientist   \n",
       "5                                 Lead Data Scientist   \n",
       "6                                      Data Scientist   \n",
       "7                          SDE Lead Data Scientist-L3   \n",
       "8         Computational Design Lead Data Scientist-L3   \n",
       "9   Hiring For DATA Scientist - ON Contract Basis ...   \n",
       "10                              Senior Data Scientist   \n",
       "11              Senior Data Scientist - Chatbot & NLP   \n",
       "12                              Senior Data Scientist   \n",
       "13                                 Sr. Data Scientist   \n",
       "14                              Senior Data Scientist   \n",
       "15  Senior Associate/Team Lead - Data Scientist Co...   \n",
       "16                              Senior Data Scientist   \n",
       "17                                     Data Scientist   \n",
       "18                        Sr Data Scientist, Payments   \n",
       "19  Hiring For Lead data Scientist For Bangalore l...   \n",
       "\n",
       "                                              company experience_required  \\\n",
       "0                  Inflexion Analytix Private Limited             0-3 Yrs   \n",
       "1                                             Nielsen             3-7 Yrs   \n",
       "2                           Xoriant Solutions Pvt Ltd             1-3 Yrs   \n",
       "3                               Philips India Limited             4-7 Yrs   \n",
       "4                      Intel Technology India Pvt Ltd            6-10 Yrs   \n",
       "5                              Oracle India Pvt. Ltd.            6-10 Yrs   \n",
       "6                              IBM India Pvt. Limited             6-8 Yrs   \n",
       "7                   Huawei Technologies India Pvt Ltd             5-8 Yrs   \n",
       "8                   Huawei Technologies India Pvt Ltd             5-8 Yrs   \n",
       "9   GlobalEdx Learning and Technology Solution Pvt...             3-8 Yrs   \n",
       "10                                       GO-JEK India            4-11 Yrs   \n",
       "11                                         Gojek Tech             3-7 Yrs   \n",
       "12          nanobi data and analytics private limited             7-9 Yrs   \n",
       "13                 VALIANCE ANALYTICS PRIVATE LIMITED             6-8 Yrs   \n",
       "14  BankBazaar.com (A&A DUKAAN FINANCIAL SERVICES ...             5-7 Yrs   \n",
       "15                           Analytics India Magazine             3-5 Yrs   \n",
       "16                                         Gojek Tech             3-7 Yrs   \n",
       "17                                  Applied Materials             2-4 Yrs   \n",
       "18    AIRBNB GLOBAL CAPABILITY CENTER PRIVATE LIMITED             4-9 Yrs   \n",
       "19                                   Societe Generale             5-9 Yrs   \n",
       "\n",
       "                                             location  \n",
       "0   Mumbai, Hyderabad/Secunderabad, Pune, Gurgaon/...  \n",
       "1   Kolkata, Gurgaon/Gurugram, Bangalore/Bengaluru...  \n",
       "2   Kochi/Cochin, Indore, Hyderabad/Secunderabad, ...  \n",
       "3                                 Bangalore/Bengaluru  \n",
       "4                                 Bangalore/Bengaluru  \n",
       "5                                 Bangalore/Bengaluru  \n",
       "6                                 Bangalore/Bengaluru  \n",
       "7                                 Bangalore/Bengaluru  \n",
       "8                                 Bangalore/Bengaluru  \n",
       "9   Hyderabad/Secunderabad, Bangalore/Bengaluru, M...  \n",
       "10                                Bangalore/Bengaluru  \n",
       "11                                Bangalore/Bengaluru  \n",
       "12                                Bangalore/Bengaluru  \n",
       "13                   Bangalore/Bengaluru, Delhi / NCR  \n",
       "14                                Bangalore/Bengaluru  \n",
       "15                                Bangalore/Bengaluru  \n",
       "16                                Bangalore/Bengaluru  \n",
       "17                                Bangalore/Bengaluru  \n",
       "18                                Bangalore/Bengaluru  \n",
       "19                                Bangalore/Bengaluru  "
      ]
     },
     "execution_count": 37,
     "metadata": {},
     "output_type": "execute_result"
    }
   ],
   "source": [
    "jobs"
   ]
  },
  {
   "cell_type": "markdown",
   "metadata": {},
   "source": [
    "# QUESTION 2 GLASSDOOR"
   ]
  },
  {
   "cell_type": "code",
   "execution_count": 39,
   "metadata": {},
   "outputs": [],
   "source": [
    "#importing the required libraries\n",
    "from bs4 import BeautifulSoup\n",
    "import requests"
   ]
  },
  {
   "cell_type": "code",
   "execution_count": 44,
   "metadata": {},
   "outputs": [
    {
     "data": {
      "text/plain": [
       "<Response [403]>"
      ]
     },
     "execution_count": 44,
     "metadata": {},
     "output_type": "execute_result"
    }
   ],
   "source": [
    "page=requests.get(\"https://www.glassdoor.co.in/index.htm\")\n",
    "page "
   ]
  },
  {
   "cell_type": "code",
   "execution_count": null,
   "metadata": {},
   "outputs": [],
   "source": []
  }
 ],
 "metadata": {
  "kernelspec": {
   "display_name": "Python 3",
   "language": "python",
   "name": "python3"
  },
  "language_info": {
   "codemirror_mode": {
    "name": "ipython",
    "version": 3
   },
   "file_extension": ".py",
   "mimetype": "text/x-python",
   "name": "python",
   "nbconvert_exporter": "python",
   "pygments_lexer": "ipython3",
   "version": "3.8.5"
  }
 },
 "nbformat": 4,
 "nbformat_minor": 4
}
